{
 "cells": [
  {
   "cell_type": "code",
   "execution_count": 2,
   "metadata": {},
   "outputs": [
    {
     "name": "stdout",
     "output_type": "stream",
     "text": [
      "Here's your random cat image: https://cdn2.thecatapi.com/images/5bf.jpg\n"
     ]
    }
   ],
   "source": [
    "import requests\n",
    "\n",
    "# Replace 'YOUR_API_KEY' with your actual API key\n",
    "API_KEY = 'live_X3bxuVnIpp1jrlaffiZGbqbR66PRgNoyanW5hhr4MjDbonSJYojZmtbYIjIHAQcg'\n",
    "\n",
    "def get_random_cat_image():\n",
    "    url = 'https://api.thecatapi.com/v1/images/search'\n",
    "    headers = {\n",
    "        'x-api-key': API_KEY\n",
    "    }\n",
    "    response = requests.get(url, headers=headers)\n",
    "    if response.status_code == 200:\n",
    "        data = response.json()\n",
    "        if data:\n",
    "            image_url = data[0]['url']\n",
    "            return image_url\n",
    "    return None\n",
    "\n",
    "def main():\n",
    "    cat_image_url = get_random_cat_image()\n",
    "    if cat_image_url:\n",
    "        print(\"Here's your random cat image:\", cat_image_url)\n",
    "    else:\n",
    "        print(\"Failed to fetch a cat image.\")\n",
    "\n",
    "if __name__ == \"__main__\":\n",
    "    main()\n"
   ]
  },
  {
   "cell_type": "code",
   "execution_count": null,
   "metadata": {},
   "outputs": [],
   "source": []
  }
 ],
 "metadata": {
  "kernelspec": {
   "display_name": "Python 3",
   "language": "python",
   "name": "python3"
  },
  "language_info": {
   "codemirror_mode": {
    "name": "ipython",
    "version": 3
   },
   "file_extension": ".py",
   "mimetype": "text/x-python",
   "name": "python",
   "nbconvert_exporter": "python",
   "pygments_lexer": "ipython3",
   "version": "3.11.4"
  }
 },
 "nbformat": 4,
 "nbformat_minor": 2
}

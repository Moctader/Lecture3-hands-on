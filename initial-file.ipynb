{
 "cells": [
  {
   "cell_type": "code",
   "execution_count": 6,
   "metadata": {},
   "outputs": [
    {
     "name": "stdout",
     "output_type": "stream",
     "text": [
      "Cat detected in the image!\n"
     ]
    }
   ],
   "source": [
    "import requests\n",
    "import cv2\n",
    "\n",
    "# Function to check if image has a cat\n",
    "def has_cat(image_path):\n",
    "    # Load Haar Cascade Classifier for cat detection\n",
    "    cat_cascade = cv2.CascadeClassifier(cv2.data.haarcascades + 'haarcascade_frontalcatface.xml')\n",
    "\n",
    "    # Read the image from the given path\n",
    "    image = cv2.imread(image_path)\n",
    "    \n",
    "    # Convert the image to grayscale\n",
    "    gray_image = cv2.cvtColor(image, cv2.COLOR_BGR2GRAY)\n",
    "\n",
    "    # Detect cats in the image\n",
    "    cats = cat_cascade.detectMultiScale(gray_image, scaleFactor=1.1, minNeighbors=5, minSize=(30, 30))\n",
    "\n",
    "    # Return True if cats are detected, False otherwise\n",
    "    return len(cats) > 0\n",
    "\n",
    "# Function to fetch a cat image using an API\n",
    "def fetch_cat_image():\n",
    "    # API endpoint for cat images\n",
    "    url = \"https://api.thecatapi.com/v1/images/search\"\n",
    "    \n",
    "    # Make GET request to fetch the image\n",
    "    response = requests.get(url)\n",
    "    \n",
    "    # Check if request was successful\n",
    "    if response.status_code == 200:\n",
    "        # Get the URL of the image from the response\n",
    "        image_url = response.json()[0]['url']\n",
    "        \n",
    "        # Download the image\n",
    "        image_response = requests.get(image_url)\n",
    "        \n",
    "        # Save the image to a file\n",
    "        with open('cat_image.jpg', 'wb') as f:\n",
    "            f.write(image_response.content)\n",
    "        \n",
    "        return 'cat_image.jpg'\n",
    "    else:\n",
    "        print(\"Failed to fetch cat image.\")\n",
    "        return None\n",
    "\n",
    "# Main function\n",
    "def main():\n",
    "    # Fetch a cat image\n",
    "    image_path = fetch_cat_image()\n",
    "    \n",
    "    if image_path:\n",
    "        # Check if the image has a cat\n",
    "        if has_cat(image_path):\n",
    "            print(\"Cat detected in the image!\")\n",
    "        else:\n",
    "            print(\"No cat detected in the image.\")\n",
    "    else:\n",
    "        print(\"Could not perform cat detection.\")\n",
    "\n",
    "if __name__ == \"__main__\":\n",
    "    main()\n"
   ]
  },
  {
   "cell_type": "code",
   "execution_count": null,
   "metadata": {},
   "outputs": [],
   "source": []
  }
 ],
 "metadata": {
  "kernelspec": {
   "display_name": "Python 3",
   "language": "python",
   "name": "python3"
  },
  "language_info": {
   "codemirror_mode": {
    "name": "ipython",
    "version": 3
   },
   "file_extension": ".py",
   "mimetype": "text/x-python",
   "name": "python",
   "nbconvert_exporter": "python",
   "pygments_lexer": "ipython3",
   "version": "3.11.4"
  }
 },
 "nbformat": 4,
 "nbformat_minor": 2
}
